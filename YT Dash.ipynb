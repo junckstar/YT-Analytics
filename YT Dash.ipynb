{
 "cells": [
  {
   "cell_type": "code",
   "execution_count": 1,
   "id": "5a3bebc8-2091-415a-b612-5a0a98b97b1e",
   "metadata": {},
   "outputs": [],
   "source": [
    "import pandas as pd\n",
    "import plotly.graph_objects as go\n",
    "import plotly.express as px\n",
    "from dash import Dash, html, dcc, Input, Output"
   ]
  },
  {
   "cell_type": "code",
   "execution_count": 2,
   "id": "dfe56bd5-61e7-49fa-9867-629a007f084a",
   "metadata": {},
   "outputs": [
    {
     "data": {
      "text/html": [
       "<div>\n",
       "<style scoped>\n",
       "    .dataframe tbody tr th:only-of-type {\n",
       "        vertical-align: middle;\n",
       "    }\n",
       "\n",
       "    .dataframe tbody tr th {\n",
       "        vertical-align: top;\n",
       "    }\n",
       "\n",
       "    .dataframe thead th {\n",
       "        text-align: right;\n",
       "    }\n",
       "</style>\n",
       "<table border=\"1\" class=\"dataframe\">\n",
       "  <thead>\n",
       "    <tr style=\"text-align: right;\">\n",
       "      <th></th>\n",
       "      <th>Unnamed: 0</th>\n",
       "      <th>Title</th>\n",
       "      <th>Published_date</th>\n",
       "      <th>Views</th>\n",
       "      <th>Likes</th>\n",
       "      <th>Comments</th>\n",
       "      <th>Month</th>\n",
       "    </tr>\n",
       "  </thead>\n",
       "  <tbody>\n",
       "    <tr>\n",
       "      <th>0</th>\n",
       "      <td>0</td>\n",
       "      <td>A must visit place in meerut.</td>\n",
       "      <td>2024-06-28</td>\n",
       "      <td>22337</td>\n",
       "      <td>2526</td>\n",
       "      <td>32</td>\n",
       "      <td>Jun</td>\n",
       "    </tr>\n",
       "    <tr>\n",
       "      <th>1</th>\n",
       "      <td>1</td>\n",
       "      <td>Everyone should grow their own vegetables.</td>\n",
       "      <td>2024-06-27</td>\n",
       "      <td>54986</td>\n",
       "      <td>4629</td>\n",
       "      <td>111</td>\n",
       "      <td>Jun</td>\n",
       "    </tr>\n",
       "    <tr>\n",
       "      <th>2</th>\n",
       "      <td>2</td>\n",
       "      <td>Environmental Activist!</td>\n",
       "      <td>2024-06-26</td>\n",
       "      <td>27057</td>\n",
       "      <td>2464</td>\n",
       "      <td>43</td>\n",
       "      <td>Jun</td>\n",
       "    </tr>\n",
       "    <tr>\n",
       "      <th>3</th>\n",
       "      <td>3</td>\n",
       "      <td>Sometimes get out from the crowd .</td>\n",
       "      <td>2024-06-25</td>\n",
       "      <td>29751</td>\n",
       "      <td>3107</td>\n",
       "      <td>49</td>\n",
       "      <td>Jun</td>\n",
       "    </tr>\n",
       "    <tr>\n",
       "      <th>4</th>\n",
       "      <td>4</td>\n",
       "      <td>Summer are here now!</td>\n",
       "      <td>2024-06-24</td>\n",
       "      <td>84573</td>\n",
       "      <td>5609</td>\n",
       "      <td>89</td>\n",
       "      <td>Jun</td>\n",
       "    </tr>\n",
       "  </tbody>\n",
       "</table>\n",
       "</div>"
      ],
      "text/plain": [
       "   Unnamed: 0                                       Title Published_date  \\\n",
       "0           0               A must visit place in meerut.     2024-06-28   \n",
       "1           1  Everyone should grow their own vegetables.     2024-06-27   \n",
       "2           2                     Environmental Activist!     2024-06-26   \n",
       "3           3          Sometimes get out from the crowd .     2024-06-25   \n",
       "4           4                        Summer are here now!     2024-06-24   \n",
       "\n",
       "   Views  Likes  Comments Month  \n",
       "0  22337   2526        32   Jun  \n",
       "1  54986   4629       111   Jun  \n",
       "2  27057   2464        43   Jun  \n",
       "3  29751   3107        49   Jun  \n",
       "4  84573   5609        89   Jun  "
      ]
     },
     "execution_count": 2,
     "metadata": {},
     "output_type": "execute_result"
    }
   ],
   "source": [
    "# Load the data\n",
    "df = pd.read_csv('Peepal_Baba.csv')\n",
    "df.head(5)"
   ]
  },
  {
   "cell_type": "code",
   "execution_count": 3,
   "id": "01eddfd3-c6de-4842-9b8c-911370456892",
   "metadata": {},
   "outputs": [],
   "source": [
    "# Convert Published_date to datetime\n",
    "df['Published_date'] = pd.to_datetime(df['Published_date'])\n",
    "df['Year'] = df['Published_date'].dt.year"
   ]
  },
  {
   "cell_type": "code",
   "execution_count": 4,
   "id": "31665532-2773-4a5d-bd9b-43eb8d0b45cc",
   "metadata": {},
   "outputs": [],
   "source": [
    "# Create the Dash app\n",
    "app = Dash(__name__)"
   ]
  },
  {
   "cell_type": "code",
   "execution_count": 5,
   "id": "a2f32eb4-c68d-4e39-a816-f8d63e59af68",
   "metadata": {},
   "outputs": [],
   "source": [
    "# Define the app layout\n",
    "app.layout = html.Div(children=[\n",
    "    html.H1(children=\"Peepal Baba Blog Analytics Dashboard\"),\n",
    "\n",
    "    # Dropdown for selecting the year\n",
    "    dcc.Dropdown(\n",
    "        id='year-dropdown',\n",
    "        options=[{'label': year, 'value': year} for year in df['Year'].unique()],\n",
    "        value=df['Year'].max(),\n",
    "        clearable=False\n",
    "    ),\n",
    "\n",
    "    # Tabs for different chart types\n",
    "    dcc.Tabs(id='chart-tabs', value='bar-chart', children=[\n",
    "        dcc.Tab(label='Bar Chart', value='bar-chart'),\n",
    "        dcc.Tab(label='Scatter Plot', value='scatter-plot'),\n",
    "        dcc.Tab(label='Histogram', value='histogram')\n",
    "    ]),\n",
    "\n",
    "    # Div to display the selected chart\n",
    "    html.Div(id='chart-display')\n",
    "])"
   ]
  },
  {
   "cell_type": "code",
   "execution_count": 6,
   "id": "c50fc750-09f5-4f8b-9b5f-ba527afdf570",
   "metadata": {},
   "outputs": [],
   "source": [
    "# Define the callback function for updating the chart\n",
    "@app.callback(\n",
    "    Output('chart-display', 'children'),\n",
    "    Input('year-dropdown', 'value'),\n",
    "    Input('chart-tabs', 'value')\n",
    ")\n",
    "def update_chart(selected_year, selected_chart):\n",
    "    filtered_df = df[df['Year'] == selected_year]\n",
    "\n",
    "    # Bar chart\n",
    "    if selected_chart == 'bar-chart':\n",
    "        fig = go.Figure()\n",
    "        fig.add_trace(go.Bar(x=filtered_df['Month'], y=filtered_df['Views'], name='Views', marker_color='royalblue'))\n",
    "        fig.add_trace(go.Bar(x=filtered_df['Month'], y=filtered_df['Likes'], name='Likes', marker_color='green'))\n",
    "        fig.add_trace(go.Bar(x=filtered_df['Month'], y=filtered_df['Comments'], name='Comments', marker_color='orange'))\n",
    "        fig.update_layout(\n",
    "            title=f\"Views, Likes, and Comments by Month ({selected_year})\",\n",
    "            xaxis_title=\"Month\",\n",
    "            yaxis_title=\"Count\",\n",
    "            barmode='group',\n",
    "            plot_bgcolor='lightgrey',\n",
    "            paper_bgcolor='whitesmoke'\n",
    "        )\n",
    "        return dcc.Graph(figure=fig)\n",
    "\n",
    "    # Scatter plot\n",
    "    elif selected_chart == 'scatter-plot':\n",
    "        fig = px.scatter(filtered_df, x='Likes', y='Comments', color='Month', title=f\"Likes vs Comments by Month ({selected_year})\")\n",
    "        fig.update_layout(\n",
    "            plot_bgcolor='lightgrey',\n",
    "            paper_bgcolor='whitesmoke'\n",
    "        )\n",
    "        return dcc.Graph(figure=fig)\n",
    "\n",
    "    # Histogram\n",
    "    elif selected_chart == 'histogram':\n",
    "        fig = go.Figure()\n",
    "        fig.add_trace(go.Histogram(x=filtered_df['Likes'], name='Likes', marker_color='blue'))\n",
    "        fig.add_trace(go.Histogram(x=filtered_df['Comments'], name='Comments', marker_color='red'))\n",
    "        fig.update_layout(\n",
    "            title=f\"Distribution of Likes and Comments ({selected_year})\",\n",
    "            xaxis_title=\"Count\",\n",
    "            yaxis_title=\"Frequency\",\n",
    "            bargap=0.2,\n",
    "            plot_bgcolor='lightgrey',\n",
    "            paper_bgcolor='whitesmoke'\n",
    "        )\n",
    "        return dcc.Graph(figure=fig)\n"
   ]
  },
  {
   "cell_type": "code",
   "execution_count": 7,
   "id": "7423ac9b-04e2-406d-bbf9-5747252f44cd",
   "metadata": {
    "scrolled": true
   },
   "outputs": [
    {
     "data": {
      "text/html": [
       "\n",
       "        <iframe\n",
       "            width=\"100%\"\n",
       "            height=\"650\"\n",
       "            src=\"http://127.0.0.1:8050/\"\n",
       "            frameborder=\"0\"\n",
       "            allowfullscreen\n",
       "            \n",
       "        ></iframe>\n",
       "        "
      ],
      "text/plain": [
       "<IPython.lib.display.IFrame at 0x25f97dc6590>"
      ]
     },
     "metadata": {},
     "output_type": "display_data"
    }
   ],
   "source": [
    "# Run the app\n",
    "if __name__ == '__main__':\n",
    "    app.run_server(debug=True)"
   ]
  },
  {
   "cell_type": "code",
   "execution_count": null,
   "id": "8b6ddf1b-a98e-4ed5-bc46-f5f8e6bb1d55",
   "metadata": {},
   "outputs": [],
   "source": []
  }
 ],
 "metadata": {
  "kernelspec": {
   "display_name": "Python 3 (ipykernel)",
   "language": "python",
   "name": "python3"
  },
  "language_info": {
   "codemirror_mode": {
    "name": "ipython",
    "version": 3
   },
   "file_extension": ".py",
   "mimetype": "text/x-python",
   "name": "python",
   "nbconvert_exporter": "python",
   "pygments_lexer": "ipython3",
   "version": "3.11.9"
  }
 },
 "nbformat": 4,
 "nbformat_minor": 5
}
